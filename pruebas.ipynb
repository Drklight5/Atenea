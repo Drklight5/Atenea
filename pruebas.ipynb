{
 "cells": [
  {
   "cell_type": "code",
   "execution_count": 2,
   "metadata": {},
   "outputs": [],
   "source": [
    "import pandas as pd #Analisis y limpieza de datos\n",
    "import numpy as nu\n",
    "import matplotlib.pyplot as mt\n",
    "\n",
    "#Cargar los archivos\n",
    "data = pd.read_csv(\"dataset_transacc_tdc_tdd_20230309.csv\")\n",
    "\n",
    "#Filtros\n",
    "f_edad = (data[\"edad_cliente\"]>12) & (data[\"edad_cliente\"]<100)\n",
    "\n",
    "#Limpieza de datos\n",
    "data = data[f_edad]\n",
    "\n"
   ]
  },
  {
   "cell_type": "code",
   "execution_count": 40,
   "metadata": {},
   "outputs": [],
   "source": [
    "n_tracc = data.groupby(\"id_cliente\").size()\n",
    "cliente = data[(data[\"id_cliente\"]) == n_tracc.idxmax()]\n",
    "\n",
    "tdd = cliente[(cliente[\"tipo_transaccion\"] == \"TDD\")]\n",
    "n_tdd = len(tdd)\n",
    "tcc = cliente[(cliente[\"tipo_transaccion\"] == \"TCC\")]\n",
    "n_tcc= len(tdd)"
   ]
  },
  {
   "cell_type": "code",
   "execution_count": 44,
   "metadata": {},
   "outputs": [
    {
     "data": {
      "text/plain": [
       "1"
      ]
     },
     "execution_count": 44,
     "metadata": {},
     "output_type": "execute_result"
    }
   ],
   "source": [
    "giro = tdd.groupby(\"giro_nombre\").size()\n",
    "amount = tdd.groupby(\"giro_nombre\")[\"monto_transaccion\"].sum()"
   ]
  },
  {
   "attachments": {},
   "cell_type": "markdown",
   "metadata": {},
   "source": [
    "Limpiar datos para calcular gasto promedio mensual de cada gasto"
   ]
  },
  {
   "cell_type": "code",
   "execution_count": null,
   "metadata": {},
   "outputs": [],
   "source": [
    "prom_men = data."
   ]
  }
 ],
 "metadata": {
  "kernelspec": {
   "display_name": "Python 3",
   "language": "python",
   "name": "python3"
  },
  "language_info": {
   "codemirror_mode": {
    "name": "ipython",
    "version": 3
   },
   "file_extension": ".py",
   "mimetype": "text/x-python",
   "name": "python",
   "nbconvert_exporter": "python",
   "pygments_lexer": "ipython3",
   "version": "3.11.3"
  },
  "orig_nbformat": 4
 },
 "nbformat": 4,
 "nbformat_minor": 2
}
